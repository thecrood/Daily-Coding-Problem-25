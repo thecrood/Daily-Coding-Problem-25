{
 "cells": [
  {
   "cell_type": "markdown",
   "id": "494abf68",
   "metadata": {},
   "source": [
    "# Daily Coding Problem 25"
   ]
  },
  {
   "cell_type": "raw",
   "id": "12cf9102",
   "metadata": {},
   "source": [
    "This problem was asked by Facebook.\n",
    "\n",
    "Implement regular expression matching with the following special characters:\n",
    "\n",
    "  . (period) which matches any single character\n",
    "  * (asterisk) which matches zero or more of the preceding element\n",
    "  \n",
    "That is, implement a function that takes in a string and a valid regular expression and returns whether or not the string matches the regular expression.\n",
    "\n",
    "For example, given the regular expression \"ra.\" and the string \"ray\", your function should return true. The same regular expression on the string \"raymond\" should return false.\n",
    "\n",
    "Given the regular expression \".*at\" and the string \"chat\", your function should return true. The same regular expression on the string \"chats\" should return false."
   ]
  },
  {
   "cell_type": "markdown",
   "id": "1c68bc5f",
   "metadata": {},
   "source": [
    "# Solution\n",
    "\n",
    "This problem should strike you as recursive. The string should match the regex if we can match the head of the string with the head of the regex and the rest of the string with the rest of the regex. The special characters . and * make implementing this a bit trickier, however, since the * means we can match 0 or any number of characters in the beginning.\n",
    "\n",
    "The basic idea then is to do the following. Let's call the string we want to match s and the regex r.\n",
    "\n",
    " * Base case: if r is empty, then return whether s is empty or not.\n",
    " * Otherwise, if the first thing in r is not proceeded by a *, then match the first character of both r and s, and   if they match, return match(r[1:], s[1:]). If they don't, then return false.\n",
    " * If the first thing in r _is_ proceeded by a *, then try every suffix substring of s on r[2:] and return true if   any suffix substring works.\n",
    " \n",
    "The code should look something like this:"
   ]
  },
  {
   "cell_type": "code",
   "execution_count": 17,
   "id": "9ebd6289",
   "metadata": {},
   "outputs": [
    {
     "name": "stdout",
     "output_type": "stream",
     "text": [
      "True\n",
      "False\n"
     ]
    }
   ],
   "source": [
    "def matches_first_char(s, r):\n",
    "    return s[0] == r[0] or (r[0] == '.' and len(s) > 0)\n",
    "\n",
    "def matches(s, r):\n",
    "    if r == '':\n",
    "        return s == ''\n",
    "\n",
    "    if len(r) == 1 or r[1] != '*':\n",
    "        # The first character in the regex is not proceeded by a *.\n",
    "        if matches_first_char(s, r):\n",
    "            return matches(s[1:], r[1:])\n",
    "        else:\n",
    "            return False\n",
    "    else:\n",
    "        # The first character is proceeded by a *.\n",
    "        # First, try zero length.\n",
    "        if matches(s, r[2:]):\n",
    "            return True\n",
    "        # If that doesn't match straight away, then try globbing more prefixes\n",
    "        # until the first character of the string doesn't match anymore.\n",
    "        i = 0\n",
    "        while matches_first_char(s[i:], r):\n",
    "            if matches(s[i+1:], r[2:]):\n",
    "                return True\n",
    "            i += 1\n",
    "s='ray'  \n",
    "r='ra'\n",
    "print(matches_first_char(s,r))\n",
    "print(matches(s,r))\n"
   ]
  },
  {
   "cell_type": "markdown",
   "id": "e3c20ace",
   "metadata": {},
   "source": [
    "This takes O(len(s) * len(r)) time and space, since we potentially need to iterate over each suffix substring again for each character.\n",
    "\n",
    "Fun fact: Stephen Kleene introduced the * operator in regular expressions and as such, it is sometimes referred to as the Kleene star."
   ]
  }
 ],
 "metadata": {
  "kernelspec": {
   "display_name": "Python 3 (ipykernel)",
   "language": "python",
   "name": "python3"
  },
  "language_info": {
   "codemirror_mode": {
    "name": "ipython",
    "version": 3
   },
   "file_extension": ".py",
   "mimetype": "text/x-python",
   "name": "python",
   "nbconvert_exporter": "python",
   "pygments_lexer": "ipython3",
   "version": "3.8.10"
  }
 },
 "nbformat": 4,
 "nbformat_minor": 5
}
